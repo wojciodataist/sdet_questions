{
 "cells": [
  {
   "cell_type": "markdown",
   "id": "62b576c5",
   "metadata": {},
   "source": [
    "### Python"
   ]
  },
  {
   "cell_type": "code",
   "execution_count": null,
   "id": "e4539a3a",
   "metadata": {},
   "outputs": [],
   "source": []
  },
  {
   "cell_type": "markdown",
   "id": "802f87ce",
   "metadata": {},
   "source": [
    "### PyTest"
   ]
  },
  {
   "cell_type": "code",
   "execution_count": null,
   "id": "06fe6097",
   "metadata": {},
   "outputs": [],
   "source": []
  },
  {
   "cell_type": "markdown",
   "id": "c2241fac",
   "metadata": {},
   "source": [
    "### Data structures"
   ]
  },
  {
   "cell_type": "code",
   "execution_count": null,
   "id": "9d79013c",
   "metadata": {},
   "outputs": [],
   "source": [
    "# What are the various types of data structures?"
   ]
  },
  {
   "cell_type": "code",
   "execution_count": 7,
   "id": "da8fe760",
   "metadata": {},
   "outputs": [],
   "source": [
    "# Difference between single linked list and a doubly linked list."
   ]
  },
  {
   "cell_type": "code",
   "execution_count": 8,
   "id": "dd5b6323",
   "metadata": {},
   "outputs": [],
   "source": [
    "# How to remove/insert an element from single linked list/doubly linked list.?"
   ]
  },
  {
   "cell_type": "code",
   "execution_count": 9,
   "id": "65be2727",
   "metadata": {},
   "outputs": [],
   "source": [
    "# Explain the scenarios where you can use linked lists and arrays."
   ]
  },
  {
   "cell_type": "code",
   "execution_count": 10,
   "id": "77de04e7",
   "metadata": {},
   "outputs": [],
   "source": [
    "# Difference between a Queue and a Stack."
   ]
  },
  {
   "cell_type": "code",
   "execution_count": 11,
   "id": "cf2341cc",
   "metadata": {},
   "outputs": [],
   "source": [
    "# Do you know about Breadth First Search (BFS) and Depth First Search (DFS)"
   ]
  },
  {
   "cell_type": "markdown",
   "id": "86b0e96b",
   "metadata": {},
   "source": [
    "### Design Patterns:"
   ]
  },
  {
   "cell_type": "code",
   "execution_count": 12,
   "id": "bf0a6633",
   "metadata": {},
   "outputs": [],
   "source": [
    "# Explain the design patterns which you have used in your framework."
   ]
  },
  {
   "cell_type": "code",
   "execution_count": 14,
   "id": "12e5c26a",
   "metadata": {},
   "outputs": [],
   "source": [
    "# Explain below and when would you use each:\n",
    "# Page Object Model\n",
    "# Builder Pattern\n",
    "# Factory Pattern\n",
    "# Singleton Pattern"
   ]
  },
  {
   "cell_type": "markdown",
   "id": "144a6986",
   "metadata": {},
   "source": [
    "### Selenium:"
   ]
  },
  {
   "cell_type": "code",
   "execution_count": 15,
   "id": "921e1841",
   "metadata": {},
   "outputs": [],
   "source": [
    "# Explain Selenium architecture."
   ]
  },
  {
   "cell_type": "code",
   "execution_count": 16,
   "id": "2b7b2d99",
   "metadata": {},
   "outputs": [],
   "source": [
    "# What are the different types of wait? Can also be asked as How do you handle synchronisation in selenium?"
   ]
  },
  {
   "cell_type": "code",
   "execution_count": 2,
   "id": "f7a96e25",
   "metadata": {},
   "outputs": [
    {
     "ename": "SyntaxError",
     "evalue": "invalid syntax (1185505759.py, line 2)",
     "output_type": "error",
     "traceback": [
      "\u001b[0;36m  Input \u001b[0;32mIn [2]\u001b[0;36m\u001b[0m\n\u001b[0;31m    By using .save_screenshot() builtin function. You add newly created image name as a parameter.\u001b[0m\n\u001b[0m       ^\u001b[0m\n\u001b[0;31mSyntaxError\u001b[0m\u001b[0;31m:\u001b[0m invalid syntax\n"
     ]
    }
   ],
   "source": [
    "# How to take screenshots?\n",
    "By using .save_screenshot() builtin function. You add newly created image name as a parameter.\n",
    "Later you can use for ex. PIL library to open the image file\n"
   ]
  },
  {
   "cell_type": "code",
   "execution_count": 4,
   "id": "d3672c61",
   "metadata": {},
   "outputs": [
    {
     "ename": "SyntaxError",
     "evalue": "invalid syntax (1785935151.py, line 2)",
     "output_type": "error",
     "traceback": [
      "\u001b[0;36m  Input \u001b[0;32mIn [4]\u001b[0;36m\u001b[0m\n\u001b[0;31m    By using HTTPrequest library to make a request and then checking each links response.\u001b[0m\n\u001b[0m       ^\u001b[0m\n\u001b[0;31mSyntaxError\u001b[0m\u001b[0;31m:\u001b[0m invalid syntax\n"
     ]
    }
   ],
   "source": [
    "# How to check if all the links on the page are working without clicking on any of the link?\n",
    "By using HTTPrequest library to make a request and then checking each links response. If there are any broken links\n",
    "you will see proper codes like 4xx or 5xx in the response."
   ]
  },
  {
   "cell_type": "code",
   "execution_count": 20,
   "id": "bec12bef",
   "metadata": {},
   "outputs": [],
   "source": [
    "# What are various exceptions you have come across and how did you handle it?\n",
    "# {commonly asked- StaleElementReferenceException }"
   ]
  },
  {
   "cell_type": "code",
   "execution_count": null,
   "id": "f1191e58",
   "metadata": {},
   "outputs": [],
   "source": []
  },
  {
   "cell_type": "code",
   "execution_count": 21,
   "id": "cf45b8c7",
   "metadata": {},
   "outputs": [],
   "source": [
    "# Name all the interfaces used in selenium\n",
    "- Capabilities\n",
    "- Interactive\n",
    "- JavaScriptExecutor\n",
    "- PrintsPage\n",
    "- SearchContext\n",
    "- TakesScreenshot\n",
    "- HasVirtualAuthenticator\n",
    "- WebDriver\n",
    "- WebElement\n",
    "- Alert\n",
    "- WrapsDriver\n",
    "- Rotatable\n",
    "- OutputType\n",
    "\n",
    "There is probably many more of them, those are the most popular ones"
   ]
  },
  {
   "cell_type": "code",
   "execution_count": 22,
   "id": "3443938f",
   "metadata": {},
   "outputs": [],
   "source": [
    "# Explain the code Webdriver driver = new Chromedriver(); Internal working when this line is executed"
   ]
  },
  {
   "cell_type": "code",
   "execution_count": 5,
   "id": "2ff14d0d",
   "metadata": {},
   "outputs": [
    {
     "ename": "SyntaxError",
     "evalue": "EOL while scanning string literal (2171853530.py, line 2)",
     "output_type": "error",
     "traceback": [
      "\u001b[0;36m  Input \u001b[0;32mIn [5]\u001b[0;36m\u001b[0m\n\u001b[0;31m    (I'm also adding definition to all of these):\u001b[0m\n\u001b[0m                                                 ^\u001b[0m\n\u001b[0;31mSyntaxError\u001b[0m\u001b[0;31m:\u001b[0m EOL while scanning string literal\n"
     ]
    }
   ],
   "source": [
    "# How to switch to frame/ alerts/ window/ tab?\n",
    "(I'm also adding definition to all of these):\n",
    " - Alerts\n",
    " Alerts are a way to show popups in the browser for either accepting data or displaying data. \n",
    " Selenium provides methods to handle alerts of all kinds.\n",
    " It contains methods for dismissing, accepting, inputting, and getting text from alert prompts. \n",
    " The two major tasks in alerts are accepting an alert or dismissing a alert.\n",
    " So the code can look like this:\n",
    " # create alert object\n",
    "alert = Alert(driver)\n",
    " # get alert text\n",
    "print(alert.text)\n",
    " # accept the alert\n",
    "alert.accept()\n",
    " \n",
    " - Frame\n",
    " A frame is an HTML element that keeps a document within another document in a page. \n",
    " HTML has the <frame> or <iframe> tags for embedding a frame inside a document.\n",
    " Code example:\n",
    " # switch to frame\n",
    "driver.switch_to.frame(\"packageListFrame\")\n",
    " # click on 1st frame\n",
    "driver.find_element_by_link_text(\"org.openqa.selenium.opera\").click()\n",
    " # back to default web page frame\n",
    "driver.switch_to.default_content()\n",
    " \n",
    " - Windows & Tabs (these have the same functions)\n",
    " We can handle child windows or tabs in Selenium. While working with child windows, \n",
    " we need to always shift the browser focus to the child windows, then perform operation on them.\n",
    " Sample code:\n",
    " #to fetch the first child window handle\n",
    "chwnd = driver.window_handles[1]\n",
    " #to switch focus the first child window handle\n",
    "driver.switch_to.window(chwnd)"
   ]
  },
  {
   "cell_type": "code",
   "execution_count": 24,
   "id": "6b93565a",
   "metadata": {},
   "outputs": [],
   "source": [
    "# What are the inbuilt methods for Alerts?"
   ]
  },
  {
   "cell_type": "code",
   "execution_count": 25,
   "id": "5430bdd2",
   "metadata": {},
   "outputs": [],
   "source": [
    "# How to find the names of all open tabs ?"
   ]
  },
  {
   "cell_type": "code",
   "execution_count": 26,
   "id": "93974265",
   "metadata": {},
   "outputs": [],
   "source": [
    "# How to find attributes of an element?"
   ]
  },
  {
   "cell_type": "code",
   "execution_count": 27,
   "id": "9eef9e8c",
   "metadata": {},
   "outputs": [],
   "source": [
    "# How to fetch the text of an element?\n"
   ]
  },
  {
   "cell_type": "code",
   "execution_count": 28,
   "id": "e780f98b",
   "metadata": {},
   "outputs": [],
   "source": [
    "# Difference between findElement() and findElements(). \n",
    "# Can also be asked as — If there’s an element on the webpage which may or may not appear everytime. \n",
    "# How do I handle it such that there is no exception thrown?*"
   ]
  },
  {
   "cell_type": "code",
   "execution_count": 29,
   "id": "646ebb03",
   "metadata": {},
   "outputs": [],
   "source": [
    "# Name all the type of locators"
   ]
  },
  {
   "cell_type": "code",
   "execution_count": 30,
   "id": "47aa02e3",
   "metadata": {},
   "outputs": [],
   "source": [
    "# What are the 2 types of xpaths?\n"
   ]
  },
  {
   "cell_type": "code",
   "execution_count": 31,
   "id": "c93f8f26",
   "metadata": {},
   "outputs": [],
   "source": [
    "# How does X-path traverse within the DOM?\n"
   ]
  },
  {
   "cell_type": "code",
   "execution_count": 32,
   "id": "bb731231",
   "metadata": {},
   "outputs": [],
   "source": [
    "# Write an Xpath to return the count of rows in a table contains the word ‘Testing’. \n",
    "# Or will be asked to write xpath for finding an element by opening some website. \n",
    "# Or to write using Advanced Xpath functions.\n"
   ]
  },
  {
   "cell_type": "code",
   "execution_count": 33,
   "id": "e15e2260",
   "metadata": {},
   "outputs": [],
   "source": [
    "# Can CCS Selector traverse backward in the DOM?"
   ]
  },
  {
   "cell_type": "code",
   "execution_count": 34,
   "id": "35524cfd",
   "metadata": {},
   "outputs": [],
   "source": [
    "# Which locator do you think is the best and the worst locators to be used?"
   ]
  },
  {
   "cell_type": "code",
   "execution_count": 35,
   "id": "56e1f1a8",
   "metadata": {},
   "outputs": [],
   "source": [
    "# I have a webpage with 10 textboxes having same name, same attributes, same id, class name, everything same. \n",
    "# How would you find the second last textbox?"
   ]
  },
  {
   "cell_type": "code",
   "execution_count": 36,
   "id": "a59ff88d",
   "metadata": {},
   "outputs": [],
   "source": [
    "# How to validate text from a textbox which disappears on clicking inside the textbox?"
   ]
  },
  {
   "cell_type": "code",
   "execution_count": 37,
   "id": "6513290c",
   "metadata": {},
   "outputs": [],
   "source": [
    "# What are the alternate ways of entering text into a textbox without using sendKeys method?\n"
   ]
  },
  {
   "cell_type": "code",
   "execution_count": 38,
   "id": "02fbc529",
   "metadata": {},
   "outputs": [],
   "source": [
    "# How to check if the values in the dropdown are in ascending order?"
   ]
  },
  {
   "cell_type": "code",
   "execution_count": 39,
   "id": "32e8f967",
   "metadata": {},
   "outputs": [],
   "source": [
    "# Suppose there is a button which downloads a PDF file on clicking on it. \n",
    "# How to download a file and save it to a particular location ?\n"
   ]
  },
  {
   "cell_type": "markdown",
   "id": "eef1c283",
   "metadata": {},
   "source": [
    "### Appium ?"
   ]
  },
  {
   "cell_type": "code",
   "execution_count": null,
   "id": "4fcf2085",
   "metadata": {},
   "outputs": [],
   "source": []
  },
  {
   "cell_type": "markdown",
   "id": "092c8b38",
   "metadata": {},
   "source": [
    "### BDD using Cucumber"
   ]
  },
  {
   "cell_type": "code",
   "execution_count": 40,
   "id": "dcc78019",
   "metadata": {},
   "outputs": [],
   "source": [
    "# What are the latest features of cucumber 6?"
   ]
  },
  {
   "cell_type": "code",
   "execution_count": 41,
   "id": "4ff7f9d9",
   "metadata": {},
   "outputs": [],
   "source": [
    "# Explain how would you create a cucumber project."
   ]
  },
  {
   "cell_type": "code",
   "execution_count": 42,
   "id": "693230b2",
   "metadata": {},
   "outputs": [],
   "source": [
    "# Explain Cucumber runner class and write the code for it."
   ]
  },
  {
   "cell_type": "code",
   "execution_count": 43,
   "id": "9e1d6bd6",
   "metadata": {},
   "outputs": [],
   "source": [
    "# Explain feature file. \n",
    "# Can you write a feature file containing a test case for Logging into the website user name and password?"
   ]
  },
  {
   "cell_type": "code",
   "execution_count": 44,
   "id": "7802849f",
   "metadata": {},
   "outputs": [],
   "source": [
    "# Various ways to pass data from the feature file?"
   ]
  },
  {
   "cell_type": "code",
   "execution_count": 45,
   "id": "772c8bbc",
   "metadata": {},
   "outputs": [],
   "source": [
    "# Difference between Scenario Outline and Data Tables"
   ]
  },
  {
   "cell_type": "code",
   "execution_count": 46,
   "id": "381a53d3",
   "metadata": {},
   "outputs": [],
   "source": [
    "# What are hooks?"
   ]
  },
  {
   "cell_type": "code",
   "execution_count": 47,
   "id": "4b3d4cfa",
   "metadata": {},
   "outputs": [],
   "source": [
    "# Difference between ‘@Before hooks and Background."
   ]
  },
  {
   "cell_type": "code",
   "execution_count": 48,
   "id": "9d90d40c",
   "metadata": {},
   "outputs": [],
   "source": [
    "# How to re-run failed test cases in Cucumber?"
   ]
  },
  {
   "cell_type": "code",
   "execution_count": 49,
   "id": "55735de7",
   "metadata": {},
   "outputs": [],
   "source": [
    "# How to check if all the statements of the feature file have been implemented into Step Definitions \n",
    "# without executing any text cases?"
   ]
  },
  {
   "cell_type": "code",
   "execution_count": 50,
   "id": "d5229eb6",
   "metadata": {},
   "outputs": [],
   "source": [
    "# What is glue, dry run, strict, monochrome?"
   ]
  },
  {
   "cell_type": "markdown",
   "id": "86578dd0",
   "metadata": {},
   "source": [
    "### API Testing"
   ]
  },
  {
   "cell_type": "code",
   "execution_count": 51,
   "id": "9ba0ed6d",
   "metadata": {},
   "outputs": [],
   "source": [
    "# Difference between a REST and SOAP api / Rest vs WebServices"
   ]
  },
  {
   "cell_type": "code",
   "execution_count": 52,
   "id": "223f41e6",
   "metadata": {},
   "outputs": [],
   "source": [
    "# What do you mean by Stateless and State-ful APIs\n"
   ]
  },
  {
   "cell_type": "code",
   "execution_count": 53,
   "id": "6f872c96",
   "metadata": {},
   "outputs": [],
   "source": [
    "# Meaning of status codes- 2xx, 3xx, 4xx, 5xx. Explanation of any random status code from these can be asked"
   ]
  },
  {
   "cell_type": "code",
   "execution_count": 54,
   "id": "28d603e7",
   "metadata": {},
   "outputs": [],
   "source": [
    "# Explain HTTP methods — GET, POST, PUT, HEAD, DELETE, OPTIONS, PATCH"
   ]
  },
  {
   "cell_type": "code",
   "execution_count": 55,
   "id": "67408a76",
   "metadata": {},
   "outputs": [],
   "source": [
    "# Types of Authentication in Rest APIs"
   ]
  },
  {
   "cell_type": "code",
   "execution_count": 56,
   "id": "18abdb9d",
   "metadata": {},
   "outputs": [],
   "source": [
    "# What is difference between OAuth1.0 and OAuth2.O ? When and where do you use and how? Write a sample code for it."
   ]
  },
  {
   "cell_type": "code",
   "execution_count": 57,
   "id": "12a162cb",
   "metadata": {},
   "outputs": [],
   "source": [
    "# Write a RestAssured code to hit the request and validate the response code, specific field in response."
   ]
  },
  {
   "cell_type": "code",
   "execution_count": 58,
   "id": "9d0aba05",
   "metadata": {},
   "outputs": [],
   "source": [
    "# How to read data from excel sheet and convert into a JSON Request?"
   ]
  },
  {
   "cell_type": "code",
   "execution_count": 59,
   "id": "c837e3da",
   "metadata": {},
   "outputs": [],
   "source": [
    "# RestAssured code to validate the Response against the values stored in Database?*"
   ]
  },
  {
   "cell_type": "code",
   "execution_count": 60,
   "id": "1ff41a6f",
   "metadata": {},
   "outputs": [],
   "source": [
    "# What is Serialisation and De-serialisation in RestAssured?"
   ]
  },
  {
   "cell_type": "code",
   "execution_count": 61,
   "id": "d1cb8d9a",
   "metadata": {},
   "outputs": [],
   "source": [
    "# Suppose if an API returns a 401 error instead of 200 OK. What steps would you do to correct it?"
   ]
  },
  {
   "cell_type": "code",
   "execution_count": 62,
   "id": "6114cb33",
   "metadata": {},
   "outputs": [],
   "source": [
    "# Difference between 401 and 403 status codes. Give a real life example where this error maybe thrown."
   ]
  },
  {
   "cell_type": "code",
   "execution_count": 63,
   "id": "28466bde",
   "metadata": {},
   "outputs": [],
   "source": [
    "# od nas"
   ]
  },
  {
   "cell_type": "code",
   "execution_count": 97,
   "id": "16ec104b",
   "metadata": {},
   "outputs": [],
   "source": [
    "# Difference between PUT and PATCH method?"
   ]
  },
  {
   "cell_type": "code",
   "execution_count": null,
   "id": "e0673062",
   "metadata": {},
   "outputs": [],
   "source": [
    "# What is a payload? "
   ]
  },
  {
   "cell_type": "markdown",
   "id": "7a8ee499",
   "metadata": {},
   "source": [
    "### Related to Automation Framework"
   ]
  },
  {
   "cell_type": "code",
   "execution_count": 65,
   "id": "5ec87780",
   "metadata": {},
   "outputs": [],
   "source": [
    "# Explain the framework which you are using in your current organization."
   ]
  },
  {
   "cell_type": "code",
   "execution_count": 66,
   "id": "c4221856",
   "metadata": {},
   "outputs": [],
   "source": [
    "# Give an example of the time when you have face a difficult challenge during automation and how did solve it?"
   ]
  },
  {
   "cell_type": "code",
   "execution_count": 67,
   "id": "caf1848e",
   "metadata": {},
   "outputs": [],
   "source": [
    "# Have you created an automation framework from scratch? \n",
    "# Explain how will you create it? (Incase if you have have created the framework along with other teammates, \n",
    "# you may be asked to explain the modules you have designed or your contribution in it.)"
   ]
  },
  {
   "cell_type": "code",
   "execution_count": 68,
   "id": "53373ab0",
   "metadata": {},
   "outputs": [],
   "source": [
    "# How will you decide which type of framework to choose before implementing automation in your project?"
   ]
  },
  {
   "cell_type": "code",
   "execution_count": 69,
   "id": "e35896a9",
   "metadata": {},
   "outputs": [],
   "source": [
    "# Which type of frameworks are you aware about or have worked upon?"
   ]
  },
  {
   "cell_type": "code",
   "execution_count": 70,
   "id": "f8ae688c",
   "metadata": {},
   "outputs": [],
   "source": [
    "# What’s the difference between TDD and BDD frameworks?"
   ]
  },
  {
   "cell_type": "markdown",
   "id": "16ebd605",
   "metadata": {},
   "source": [
    "### GIT"
   ]
  },
  {
   "cell_type": "code",
   "execution_count": 71,
   "id": "4e71bb52",
   "metadata": {},
   "outputs": [],
   "source": [
    "# Difference between Commit vs Add, Commit vs Push, Pull vs Fetch"
   ]
  },
  {
   "cell_type": "code",
   "execution_count": 72,
   "id": "08664aa6",
   "metadata": {},
   "outputs": [],
   "source": [
    "# Difference between Merge vs Rebase"
   ]
  },
  {
   "cell_type": "code",
   "execution_count": 73,
   "id": "a7bff70b",
   "metadata": {},
   "outputs": [],
   "source": [
    "# How to resolve conflicts while merging conflicting code?*"
   ]
  },
  {
   "cell_type": "code",
   "execution_count": 74,
   "id": "c4bf1de7",
   "metadata": {},
   "outputs": [],
   "source": [
    "# Apart from GITHUB, which other version control systems are you aware about or have worked on?"
   ]
  },
  {
   "cell_type": "markdown",
   "id": "398177ba",
   "metadata": {},
   "source": [
    "### SQL"
   ]
  },
  {
   "cell_type": "code",
   "execution_count": 75,
   "id": "177d181a",
   "metadata": {},
   "outputs": [],
   "source": [
    "# Difference between IN and Having?"
   ]
  },
  {
   "cell_type": "code",
   "execution_count": 76,
   "id": "58d2a0f9",
   "metadata": {},
   "outputs": [],
   "source": [
    "# What is NVL, Rada?"
   ]
  },
  {
   "cell_type": "code",
   "execution_count": 77,
   "id": "bfbbe881",
   "metadata": {},
   "outputs": [],
   "source": [
    "# Write a SQL Query to Copy data from one row to other"
   ]
  },
  {
   "cell_type": "code",
   "execution_count": 78,
   "id": "0c5f59af",
   "metadata": {},
   "outputs": [],
   "source": [
    "# What is self join, inner join, outer join?"
   ]
  },
  {
   "cell_type": "code",
   "execution_count": 79,
   "id": "40c96b50",
   "metadata": {},
   "outputs": [],
   "source": [
    "# A table structure will be given and you maybe asked to write sql query for a specific condition."
   ]
  },
  {
   "cell_type": "markdown",
   "id": "65a99771",
   "metadata": {},
   "source": [
    "### Agile"
   ]
  },
  {
   "cell_type": "code",
   "execution_count": 80,
   "id": "a2bbfa0e",
   "metadata": {},
   "outputs": [],
   "source": [
    "# Explain all the agile process involved in a release ?*"
   ]
  },
  {
   "cell_type": "code",
   "execution_count": 81,
   "id": "32d5be17",
   "metadata": {},
   "outputs": [],
   "source": [
    "# What are the scrum ceremonies ?*"
   ]
  },
  {
   "cell_type": "code",
   "execution_count": 82,
   "id": "91c75739",
   "metadata": {},
   "outputs": [],
   "source": [
    "# What is PI Planning meeting?"
   ]
  },
  {
   "cell_type": "code",
   "execution_count": 83,
   "id": "8b6f1271",
   "metadata": {},
   "outputs": [],
   "source": [
    "# How would you mitigate the risk of testing task spill-over?"
   ]
  },
  {
   "cell_type": "markdown",
   "id": "565d0789",
   "metadata": {},
   "source": [
    "### Manual/Functional/Non-Functional Testing Questions"
   ]
  },
  {
   "cell_type": "code",
   "execution_count": 84,
   "id": "287cb825",
   "metadata": {},
   "outputs": [],
   "source": [
    "# Explain your domain or end to end flow of your current application"
   ]
  },
  {
   "cell_type": "code",
   "execution_count": 85,
   "id": "e089bce2",
   "metadata": {},
   "outputs": [],
   "source": [
    "# What are the important elements while raising a defect?"
   ]
  },
  {
   "cell_type": "code",
   "execution_count": 86,
   "id": "0949b73e",
   "metadata": {},
   "outputs": [],
   "source": [
    "# How would you determine Priority and Severity of a defect?"
   ]
  },
  {
   "cell_type": "code",
   "execution_count": 87,
   "id": "721d74d7",
   "metadata": {},
   "outputs": [],
   "source": [
    "# How would you create a Test Strategy Document/Test Plan Document?"
   ]
  },
  {
   "cell_type": "code",
   "execution_count": 88,
   "id": "a26d52b7",
   "metadata": {},
   "outputs": [],
   "source": [
    "# What are the list of updates you mention in Daily/Weekly Status Reports?"
   ]
  },
  {
   "cell_type": "code",
   "execution_count": 89,
   "id": "32fc60b6",
   "metadata": {},
   "outputs": [],
   "source": [
    "# Difference between Functional and Non-Functional Testing?"
   ]
  },
  {
   "cell_type": "code",
   "execution_count": 90,
   "id": "ca60cdeb",
   "metadata": {},
   "outputs": [],
   "source": [
    "# Difference between Smoke testing and Sanity Testing?"
   ]
  },
  {
   "cell_type": "code",
   "execution_count": 91,
   "id": "4ced662f",
   "metadata": {},
   "outputs": [],
   "source": [
    "# Difference between Bug, Defect and Error"
   ]
  },
  {
   "cell_type": "code",
   "execution_count": 92,
   "id": "7407210b",
   "metadata": {},
   "outputs": [],
   "source": [
    "# Difference between Performance Testing, Stress Testing, Load Testing"
   ]
  },
  {
   "cell_type": "code",
   "execution_count": 93,
   "id": "e0794048",
   "metadata": {},
   "outputs": [],
   "source": [
    "# Difference between Alpha and Beta testing\n",
    "Alpha Testing is a type of testing conducted by testers to identify the presence of any bugs \n",
    "before the release of the application into the live environment.\n",
    "\n",
    "Beta Testing is a type of testing conducted by the end-users in the real-world environment who happen \n",
    "to be the actual users of the application. In other words, we can say that the application is released in \n",
    "beta testing, and the application users are the actual tester."
   ]
  },
  {
   "cell_type": "code",
   "execution_count": 94,
   "id": "93ed9128",
   "metadata": {},
   "outputs": [],
   "source": [
    "# Difference between Boundary Value Analysis and Equivalence Partitioning."
   ]
  },
  {
   "cell_type": "code",
   "execution_count": 95,
   "id": "c88401fe",
   "metadata": {},
   "outputs": [],
   "source": [
    "# What is Test Pyramid?"
   ]
  },
  {
   "cell_type": "code",
   "execution_count": 96,
   "id": "af68387f",
   "metadata": {},
   "outputs": [],
   "source": [
    "# Difference between Waterfall and Agile models?"
   ]
  },
  {
   "cell_type": "code",
   "execution_count": null,
   "id": "6e2aa6ec",
   "metadata": {},
   "outputs": [],
   "source": []
  }
 ],
 "metadata": {
  "kernelspec": {
   "display_name": "Python 3 (ipykernel)",
   "language": "python",
   "name": "python3"
  },
  "language_info": {
   "codemirror_mode": {
    "name": "ipython",
    "version": 3
   },
   "file_extension": ".py",
   "mimetype": "text/x-python",
   "name": "python",
   "nbconvert_exporter": "python",
   "pygments_lexer": "ipython3",
   "version": "3.9.13"
  }
 },
 "nbformat": 4,
 "nbformat_minor": 5
}
